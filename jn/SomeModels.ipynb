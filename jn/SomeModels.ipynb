{
 "cells": [
  {
   "cell_type": "markdown",
   "metadata": {},
   "source": [
    "# Setting\n",
    "\n",
    "## path setting "
   ]
  },
  {
   "cell_type": "code",
   "execution_count": 30,
   "metadata": {},
   "outputs": [],
   "source": [
    "### for local machine ###\n",
    "import sys, os\n",
    "home_path = os.path.expanduser(\"~\") + '/Desktop/Molecular_kaggle'\n",
    "sys.path.append(home_path + '/py/')"
   ]
  },
  {
   "cell_type": "code",
   "execution_count": null,
   "metadata": {},
   "outputs": [],
   "source": [
    "### for kaggle kernel ###\n",
    "import sys\n",
    "sys.path.append('../usr/lib/boosting/')\n",
    "sys.path.append('../usr/lib/based/')"
   ]
  },
  {
   "cell_type": "markdown",
   "metadata": {},
   "source": [
    "## import module and my function"
   ]
  },
  {
   "cell_type": "code",
   "execution_count": 74,
   "metadata": {
    "scrolled": true
   },
   "outputs": [],
   "source": [
    "# module\n",
    "import numpy as np\n",
    "import pandas as pd\n",
    "import pandas_profiling as pdp\n",
    "import scipy\n",
    "# import pyper\n",
    "import lightgbm\n",
    "import xgboost\n",
    "from tabulate import tabulate\n",
    "# from ggplot import *\n",
    "import warnings\n",
    "import collections\n",
    "from scipy.optimize import minimize\n",
    "from sympy import *\n",
    "import matplotlib.pyplot as plt\n",
    "import seaborn as sns; sns.set() #seabornライブラリを読み込み、スタイルをセットする\n",
    "from numpy import linalg as la\n",
    "from sklearn.model_selection import StratifiedKFold, KFold\n",
    "from sklearn.metrics import mean_squared_error, mean_absolute_error\n",
    "from datetime import datetime\n",
    "\n",
    "# my module \n",
    "import importlib\n",
    "import boosting\n",
    "import based\n",
    "importlib.reload(boosting)\n",
    "importlib.reload(based)\n",
    "\n",
    "# for instance\n",
    "Process = based.Process()\n",
    "Assistance = based.Assistance()\n",
    "LightGBM = boosting.LightGBM()"
   ]
  },
  {
   "cell_type": "markdown",
   "metadata": {},
   "source": [
    "## Read csv"
   ]
  },
  {
   "cell_type": "code",
   "execution_count": 3,
   "metadata": {},
   "outputs": [
    {
     "name": "stdout",
     "output_type": "stream",
     "text": [
      "4658147 observations and 29 features in train set.\n",
      "2505542 observations and 29 features in test set.\n",
      "8 observations and 1 features in features set.\n"
     ]
    }
   ],
   "source": [
    "### for local machine ###\n",
    "train_df, test_df, features = Process.read_data()\n",
    "\n",
    "# under sampling for testing\n",
    "train_df = Assistance.test_sampling(train=train_df, key='type', rate=0.1)\n",
    "train_df.head()"
   ]
  },
  {
   "cell_type": "code",
   "execution_count": null,
   "metadata": {},
   "outputs": [],
   "source": [
    "### for Kaggle kernel ###\n",
    "train_df = pd.read_csv(\"../input/preprocess/train.csv\")\n",
    "test_df = pd.read_csv('../input/preprocess/test.csv')\n",
    "features = pd.read_csv('../input/preprocess/features.csv')\n",
    "\n",
    "# check data frame\n",
    "print(\"{} observations and {} features in train set.\".format(train_df.shape[0],train_df.shape[1]))\n",
    "print(\"{} observations and {} features in test set.\".format(test_df.shape[0],test_df.shape[1]))\n",
    "print(\"{} observations and {} features in features set.\".format(features.shape[0],features.shape[1]))\n",
    "\n",
    "features = features[\"feature\"].tolist() # features list"
   ]
  },
  {
   "cell_type": "markdown",
   "metadata": {},
   "source": [
    "# LightGBM\n",
    "\n",
    "- lightgbm\n",
    "\n",
    "## model execute"
   ]
  },
  {
   "cell_type": "code",
   "execution_count": 68,
   "metadata": {
    "scrolled": true
   },
   "outputs": [],
   "source": [
    "# parameters\n",
    "param_lgb = {'metric': 'mae', # 評価関数\n",
    "                     'objective':'regression_l2', # 目的関数\n",
    "                     'max_depth': -1, # 各木の最大の深さ\n",
    "                     'max_leaves': 255, # 各木の最大の葉の数\n",
    "                     'min_data_in_leaf': 20, # 末端ノードに含まれる最小ノード数 (default)\n",
    "                     'learning_rate': 0.15, # 各木の重み係数 (大きいと少ない木で予測する)\n",
    "                     'boosting': 'gbdt', # (dart, rf)\n",
    "                     'bagging_freq': 1, # バギングを行う割合 (1:常に行う, 0: 行わない)\n",
    "                     'sub_feature':0.5, # 訓練データの??%を利用 (特徴量)\n",
    "                     'sub_row':0.75, # 訓練データの??%を利用 (データ, 非復元抽出)\n",
    "                     'verbosity': -1,\n",
    "                     'nthread': 4,\n",
    "                     'random_state': 831}\n",
    "\n",
    "# argument\n",
    "arg1 = {'train' : train_df,\n",
    "            'test' : test_df,\n",
    "            'features' : features,\n",
    "            'param' : param_lgb,\n",
    "            'name' : 'Lightgbm base model'}"
   ]
  },
  {
   "cell_type": "code",
   "execution_count": 70,
   "metadata": {
    "scrolled": true
   },
   "outputs": [
    {
     "name": "stdout",
     "output_type": "stream",
     "text": [
      "~~~~~~~~~ type name: 1JHC  ~~~~~~~~~\n",
      "validation method: GroupKFold(n_splits=5) groups value: molecule_name\n",
      "fold n°1\n",
      "Training until validation scores don't improve for 100 rounds.\n",
      "[100]\ttraining's l1: 4.66439\tvalid_1's l1: 5.40285\n",
      "Early stopping, best iteration is:\n",
      "[63]\ttraining's l1: 4.80031\tvalid_1's l1: 5.36821\n",
      "fold n°2\n",
      "Training until validation scores don't improve for 100 rounds.\n",
      "[100]\ttraining's l1: 4.65418\tvalid_1's l1: 5.50701\n",
      "Early stopping, best iteration is:\n",
      "[51]\ttraining's l1: 4.86557\tvalid_1's l1: 5.43827\n",
      "fold n°3\n",
      "Training until validation scores don't improve for 100 rounds.\n",
      "[100]\ttraining's l1: 4.67777\tvalid_1's l1: 5.44836\n",
      "Early stopping, best iteration is:\n",
      "[59]\ttraining's l1: 4.83885\tvalid_1's l1: 5.39517\n",
      "fold n°4\n",
      "Training until validation scores don't improve for 100 rounds.\n",
      "[100]\ttraining's l1: 4.67009\tvalid_1's l1: 5.42206\n",
      "Early stopping, best iteration is:\n",
      "[57]\ttraining's l1: 4.83769\tvalid_1's l1: 5.36315\n",
      "fold n°5\n",
      "Training until validation scores don't improve for 100 rounds.\n",
      "[100]\ttraining's l1: 4.68131\tvalid_1's l1: 5.49658\n",
      "Early stopping, best iteration is:\n",
      "[51]\ttraining's l1: 4.88328\tvalid_1's l1: 5.4372\n",
      "~~~~~~~~~ type name: 1JHN  ~~~~~~~~~\n",
      "validation method: GroupKFold(n_splits=5) groups value: molecule_name\n",
      "fold n°1\n",
      "Training until validation scores don't improve for 100 rounds.\n",
      "[100]\ttraining's l1: 1.92516\tvalid_1's l1: 3.3418\n",
      "Early stopping, best iteration is:\n",
      "[43]\ttraining's l1: 2.36222\tvalid_1's l1: 3.2039\n",
      "fold n°2\n",
      "Training until validation scores don't improve for 100 rounds.\n",
      "[100]\ttraining's l1: 1.91592\tvalid_1's l1: 3.55739\n",
      "Early stopping, best iteration is:\n",
      "[60]\ttraining's l1: 2.18543\tvalid_1's l1: 3.49733\n",
      "fold n°3\n",
      "Training until validation scores don't improve for 100 rounds.\n",
      "[100]\ttraining's l1: 1.96389\tvalid_1's l1: 3.36172\n",
      "Early stopping, best iteration is:\n",
      "[41]\ttraining's l1: 2.40031\tvalid_1's l1: 3.21368\n",
      "fold n°4\n",
      "Training until validation scores don't improve for 100 rounds.\n",
      "[100]\ttraining's l1: 1.92453\tvalid_1's l1: 3.41935\n",
      "Early stopping, best iteration is:\n",
      "[58]\ttraining's l1: 2.19979\tvalid_1's l1: 3.32761\n",
      "fold n°5\n",
      "Training until validation scores don't improve for 100 rounds.\n",
      "[100]\ttraining's l1: 1.93334\tvalid_1's l1: 3.42197\n",
      "Early stopping, best iteration is:\n",
      "[44]\ttraining's l1: 2.33797\tvalid_1's l1: 3.19656\n",
      "~~~~~~~~~ type name: 2JHC  ~~~~~~~~~\n",
      "validation method: GroupKFold(n_splits=5) groups value: molecule_name\n",
      "fold n°1\n",
      "Training until validation scores don't improve for 100 rounds.\n",
      "[100]\ttraining's l1: 2.32352\tvalid_1's l1: 2.59661\n",
      "Early stopping, best iteration is:\n",
      "[14]\ttraining's l1: 2.43677\tvalid_1's l1: 2.50552\n",
      "fold n°2\n",
      "Training until validation scores don't improve for 100 rounds.\n",
      "[100]\ttraining's l1: 2.323\tvalid_1's l1: 2.61595\n",
      "Early stopping, best iteration is:\n",
      "[13]\ttraining's l1: 2.43498\tvalid_1's l1: 2.52248\n",
      "fold n°3\n",
      "Training until validation scores don't improve for 100 rounds.\n",
      "[100]\ttraining's l1: 2.33691\tvalid_1's l1: 2.5622\n",
      "Early stopping, best iteration is:\n",
      "[15]\ttraining's l1: 2.44309\tvalid_1's l1: 2.4637\n",
      "fold n°4\n",
      "Training until validation scores don't improve for 100 rounds.\n",
      "[100]\ttraining's l1: 2.32588\tvalid_1's l1: 2.60135\n",
      "Early stopping, best iteration is:\n",
      "[15]\ttraining's l1: 2.43351\tvalid_1's l1: 2.51118\n",
      "fold n°5\n",
      "Training until validation scores don't improve for 100 rounds.\n",
      "[100]\ttraining's l1: 2.32501\tvalid_1's l1: 2.59609\n",
      "Early stopping, best iteration is:\n",
      "[11]\ttraining's l1: 2.45087\tvalid_1's l1: 2.5028\n",
      "~~~~~~~~~ type name: 2JHH  ~~~~~~~~~\n",
      "validation method: GroupKFold(n_splits=5) groups value: molecule_name\n",
      "fold n°1\n",
      "Training until validation scores don't improve for 100 rounds.\n",
      "[100]\ttraining's l1: 1.11675\tvalid_1's l1: 1.42879\n",
      "Early stopping, best iteration is:\n",
      "[35]\ttraining's l1: 1.20683\tvalid_1's l1: 1.3568\n",
      "fold n°2\n",
      "Training until validation scores don't improve for 100 rounds.\n",
      "[100]\ttraining's l1: 1.11545\tvalid_1's l1: 1.41367\n",
      "Early stopping, best iteration is:\n",
      "[31]\ttraining's l1: 1.21696\tvalid_1's l1: 1.35989\n",
      "fold n°3\n",
      "Training until validation scores don't improve for 100 rounds.\n",
      "[100]\ttraining's l1: 1.10609\tvalid_1's l1: 1.4594\n",
      "Early stopping, best iteration is:\n",
      "[31]\ttraining's l1: 1.20669\tvalid_1's l1: 1.3963\n",
      "fold n°4\n",
      "Training until validation scores don't improve for 100 rounds.\n",
      "[100]\ttraining's l1: 1.11866\tvalid_1's l1: 1.407\n",
      "Early stopping, best iteration is:\n",
      "[31]\ttraining's l1: 1.21964\tvalid_1's l1: 1.35612\n",
      "fold n°5\n",
      "Training until validation scores don't improve for 100 rounds.\n",
      "[100]\ttraining's l1: 1.10162\tvalid_1's l1: 1.42669\n",
      "Early stopping, best iteration is:\n",
      "[33]\ttraining's l1: 1.20241\tvalid_1's l1: 1.36682\n",
      "~~~~~~~~~ type name: 2JHN  ~~~~~~~~~\n",
      "validation method: GroupKFold(n_splits=5) groups value: molecule_name\n",
      "fold n°1\n",
      "Training until validation scores don't improve for 100 rounds.\n",
      "[100]\ttraining's l1: 1.57893\tvalid_1's l1: 2.78404\n",
      "Early stopping, best iteration is:\n",
      "[23]\ttraining's l1: 2.05337\tvalid_1's l1: 2.6287\n",
      "fold n°2\n",
      "Training until validation scores don't improve for 100 rounds.\n",
      "[100]\ttraining's l1: 1.59537\tvalid_1's l1: 2.69084\n",
      "Early stopping, best iteration is:\n",
      "[19]\ttraining's l1: 2.13691\tvalid_1's l1: 2.50561\n",
      "fold n°3\n",
      "Training until validation scores don't improve for 100 rounds.\n",
      "[100]\ttraining's l1: 1.60267\tvalid_1's l1: 2.64258\n",
      "Early stopping, best iteration is:\n",
      "[28]\ttraining's l1: 2.03532\tvalid_1's l1: 2.50278\n",
      "fold n°4\n",
      "Training until validation scores don't improve for 100 rounds.\n",
      "[100]\ttraining's l1: 1.61079\tvalid_1's l1: 2.67072\n",
      "Early stopping, best iteration is:\n",
      "[21]\ttraining's l1: 2.11462\tvalid_1's l1: 2.51732\n",
      "fold n°5\n",
      "Training until validation scores don't improve for 100 rounds.\n",
      "[100]\ttraining's l1: 1.61021\tvalid_1's l1: 2.6463\n",
      "Early stopping, best iteration is:\n",
      "[21]\ttraining's l1: 2.11473\tvalid_1's l1: 2.46935\n",
      "~~~~~~~~~ type name: 3JHC  ~~~~~~~~~\n",
      "validation method: GroupKFold(n_splits=5) groups value: molecule_name\n",
      "fold n°1\n",
      "Training until validation scores don't improve for 100 rounds.\n",
      "[100]\ttraining's l1: 1.90069\tvalid_1's l1: 2.08914\n",
      "Early stopping, best iteration is:\n",
      "[43]\ttraining's l1: 1.95961\tvalid_1's l1: 2.07033\n",
      "fold n°2\n",
      "Training until validation scores don't improve for 100 rounds.\n",
      "[100]\ttraining's l1: 1.90691\tvalid_1's l1: 2.06979\n",
      "Early stopping, best iteration is:\n",
      "[41]\ttraining's l1: 1.96901\tvalid_1's l1: 2.05405\n",
      "fold n°3\n",
      "Training until validation scores don't improve for 100 rounds.\n",
      "[100]\ttraining's l1: 1.90314\tvalid_1's l1: 2.07473\n",
      "Early stopping, best iteration is:\n",
      "[31]\ttraining's l1: 1.98487\tvalid_1's l1: 2.05664\n",
      "fold n°4\n",
      "Training until validation scores don't improve for 100 rounds.\n",
      "[100]\ttraining's l1: 1.90777\tvalid_1's l1: 2.06844\n",
      "Early stopping, best iteration is:\n",
      "[39]\ttraining's l1: 1.97362\tvalid_1's l1: 2.05274\n",
      "fold n°5\n",
      "Training until validation scores don't improve for 100 rounds.\n",
      "[100]\ttraining's l1: 1.90046\tvalid_1's l1: 2.08104\n",
      "Early stopping, best iteration is:\n",
      "[35]\ttraining's l1: 1.9747\tvalid_1's l1: 2.0646\n",
      "~~~~~~~~~ type name: 3JHH  ~~~~~~~~~\n",
      "validation method: GroupKFold(n_splits=5) groups value: molecule_name\n",
      "fold n°1\n",
      "Training until validation scores don't improve for 100 rounds.\n",
      "[100]\ttraining's l1: 1.57487\tvalid_1's l1: 1.87086\n",
      "Early stopping, best iteration is:\n",
      "[45]\ttraining's l1: 1.67542\tvalid_1's l1: 1.8456\n",
      "fold n°2\n",
      "Training until validation scores don't improve for 100 rounds.\n",
      "[100]\ttraining's l1: 1.56512\tvalid_1's l1: 1.89451\n",
      "Early stopping, best iteration is:\n",
      "[47]\ttraining's l1: 1.66146\tvalid_1's l1: 1.87164\n",
      "fold n°3\n",
      "Training until validation scores don't improve for 100 rounds.\n",
      "[100]\ttraining's l1: 1.57039\tvalid_1's l1: 1.87691\n",
      "Early stopping, best iteration is:\n",
      "[56]\ttraining's l1: 1.64381\tvalid_1's l1: 1.8572\n",
      "fold n°4\n",
      "Training until validation scores don't improve for 100 rounds.\n",
      "[100]\ttraining's l1: 1.56531\tvalid_1's l1: 1.88925\n",
      "Early stopping, best iteration is:\n",
      "[51]\ttraining's l1: 1.65114\tvalid_1's l1: 1.86593\n",
      "fold n°5\n",
      "Training until validation scores don't improve for 100 rounds.\n",
      "[100]\ttraining's l1: 1.56289\tvalid_1's l1: 1.91284\n",
      "Early stopping, best iteration is:\n",
      "[43]\ttraining's l1: 1.67381\tvalid_1's l1: 1.88097\n",
      "~~~~~~~~~ type name: 3JHN  ~~~~~~~~~\n",
      "validation method: GroupKFold(n_splits=5) groups value: molecule_name\n",
      "fold n°1\n",
      "Training until validation scores don't improve for 100 rounds.\n",
      "[100]\ttraining's l1: 0.599844\tvalid_1's l1: 0.865302\n",
      "Early stopping, best iteration is:\n",
      "[27]\ttraining's l1: 0.719373\tvalid_1's l1: 0.821664\n",
      "fold n°2\n",
      "Training until validation scores don't improve for 100 rounds.\n",
      "[100]\ttraining's l1: 0.585997\tvalid_1's l1: 0.930265\n",
      "Early stopping, best iteration is:\n",
      "[15]\ttraining's l1: 0.750468\tvalid_1's l1: 0.865509\n",
      "fold n°3\n",
      "Training until validation scores don't improve for 100 rounds.\n",
      "[100]\ttraining's l1: 0.586783\tvalid_1's l1: 0.932928\n",
      "Early stopping, best iteration is:\n",
      "[17]\ttraining's l1: 0.740939\tvalid_1's l1: 0.864513\n",
      "fold n°4\n",
      "Training until validation scores don't improve for 100 rounds.\n",
      "[100]\ttraining's l1: 0.593863\tvalid_1's l1: 0.904718\n",
      "Early stopping, best iteration is:\n",
      "[21]\ttraining's l1: 0.731032\tvalid_1's l1: 0.847055\n",
      "fold n°5\n",
      "Training until validation scores don't improve for 100 rounds.\n",
      "[100]\ttraining's l1: 0.587324\tvalid_1's l1: 0.914416\n",
      "Early stopping, best iteration is:\n",
      "[17]\ttraining's l1: 0.744811\tvalid_1's l1: 0.847425\n"
     ]
    }
   ],
   "source": [
    "# model\n",
    "with based.timer(\"Light GBM model\"):\n",
    "        mean_log_mae, submit_file, importance = \\\n",
    "        Assistance.split_execute_model(split_value = 'type',\n",
    "                                                         train=train_df, \n",
    "                                                         test=test_df, \n",
    "                                                         model=LightGBM.lightgbm, \n",
    "                                                         model_arg = arg1)"
   ]
  },
  {
   "cell_type": "markdown",
   "metadata": {},
   "source": [
    "## Result"
   ]
  },
  {
   "cell_type": "code",
   "execution_count": 71,
   "metadata": {},
   "outputs": [
    {
     "name": "stdout",
     "output_type": "stream",
     "text": [
      "Lightgbm normal validation Mean log MAE: 0.7768\n"
     ]
    }
   ],
   "source": [
    "# result (Mean Log MAE)\n",
    "print(\"Lightgbm normal validation Mean log MAE: %.4f\" % np.mean(mean_log_mae))\n",
    "# submit\n",
    "# Process.submit(submit_file ,tech = \"lightgbm_giba_output\")"
   ]
  },
  {
   "cell_type": "code",
   "execution_count": 75,
   "metadata": {},
   "outputs": [
    {
     "data": {
      "image/png": "[encoded data removed]",
      "text/plain": [
       "<Figure size 720x1440 with 1 Axes>"
      ]
     },
     "metadata": {},
     "output_type": "display_data"
    }
   ],
   "source": [
    "# importance  \n",
    "Process.display_importances(importance,title=\"LightGBM normal importance\",file_name = None)"
   ]
  },
  {
   "cell_type": "code",
   "execution_count": null,
   "metadata": {},
   "outputs": [],
   "source": [
    "# output file\n",
    "file_name =  'lightgbm_sample' + '_' + datetime.now().strftime(\"%Y%m%d\") + \".csv\"\n",
    "submit_file.to_csv(file_name, index=False)"
   ]
  }
 ],
 "metadata": {
  "kernelspec": {
   "display_name": "py37",
   "language": "python",
   "name": "py37"
  },
  "language_info": {
   "codemirror_mode": {
    "name": "ipython",
    "version": 3
   },
   "file_extension": ".py",
   "mimetype": "text/x-python",
   "name": "python",
   "nbconvert_exporter": "python",
   "pygments_lexer": "ipython3",
   "version": "3.7.1"
  },
  "toc": {
   "base_numbering": 1,
   "nav_menu": {},
   "number_sections": true,
   "sideBar": true,
   "skip_h1_title": false,
   "title_cell": "Table of Contents",
   "title_sidebar": "Contents",
   "toc_cell": false,
   "toc_position": {},
   "toc_section_display": true,
   "toc_window_display": true
  }
 },
 "nbformat": 4,
 "nbformat_minor": 2
}
