{
 "cells": [
  {
   "cell_type": "markdown",
   "metadata": {},
   "source": [
    "# setting"
   ]
  },
  {
   "cell_type": "code",
   "execution_count": 5,
   "metadata": {},
   "outputs": [],
   "source": [
    "import sys, os\n",
    "home_path = os.path.expanduser(\"~\") + '/Desktop/Molecular_kaggle'"
   ]
  },
  {
   "cell_type": "code",
   "execution_count": 6,
   "metadata": {},
   "outputs": [],
   "source": [
    "import pickle"
   ]
  },
  {
   "cell_type": "markdown",
   "metadata": {},
   "source": [
    "# function"
   ]
  },
  {
   "cell_type": "code",
   "execution_count": 7,
   "metadata": {},
   "outputs": [],
   "source": [
    "def save_list(data,file_name):\n",
    "    f = open(home_path + '/input/parameters/' + file_name + '.txt', 'wb')\n",
    "    list = data\n",
    "    pickle.dump(list, f)"
   ]
  },
  {
   "cell_type": "markdown",
   "metadata": {},
   "source": [
    "# Parameters"
   ]
  },
  {
   "cell_type": "markdown",
   "metadata": {},
   "source": [
    "## Light GBM"
   ]
  },
  {
   "cell_type": "code",
   "execution_count": 8,
   "metadata": {},
   "outputs": [],
   "source": [
    "# parameters\n",
    "param_set = {'num_leaves': 31,\n",
    "             'min_data_in_leaf': 30, \n",
    "             'objective':'regression',\n",
    "             'max_depth': -1,\n",
    "             'learning_rate': 0.01,\n",
    "             \"min_child_samples\": 20,\n",
    "             \"boosting\": \"gbdt\",\n",
    "             \"feature_fraction\": 0.9,\n",
    "             \"bagging_freq\": 1,\n",
    "             \"bagging_fraction\": 0.9 ,\n",
    "             \"bagging_seed\": 11,\n",
    "             \"metric\": 'rmse',\n",
    "             \"lambda_l1\": 0.1,\n",
    "             \"verbosity\": -1,\n",
    "             \"nthread\": 4,\n",
    "             \"random_state\": 831}\n",
    "save_list(param_set,file_name = 'kernel_param_lgb')"
   ]
  },
  {
   "cell_type": "code",
   "execution_count": 4,
   "metadata": {},
   "outputs": [],
   "source": [
    "# parameters\n",
    "# https://www.kaggle.com/fabiendaniel/hyperparameter-tuning\n",
    "param_set = {'num_leaves': 111,\n",
    "             'min_data_in_leaf': 149, \n",
    "             'objective':'regression',\n",
    "             'max_depth': 9,\n",
    "             'learning_rate': 0.005,\n",
    "             \"boosting\": \"gbdt\",\n",
    "             \"feature_fraction\": 0.7522,\n",
    "             \"bagging_freq\": 1,\n",
    "             \"bagging_fraction\": 0.7083 ,\n",
    "             \"bagging_seed\": 11,\n",
    "             \"metric\": 'rmse',\n",
    "             \"lambda_l1\": 0.2634,\n",
    "             \"random_state\": 831,\n",
    "             \"verbosity\": -1}\n",
    "save_list(param_set,file_name = 'kernel_param_tuning_lgb')"
   ]
  },
  {
   "cell_type": "code",
   "execution_count": 4,
   "metadata": {},
   "outputs": [],
   "source": [
    "param_set = {'num_leaves': 31,\n",
    "             'min_data_in_leaf': 30, \n",
    "             'objective':'binary',\n",
    "             'max_depth': 6,\n",
    "             'learning_rate': 0.01,\n",
    "             \"boosting\": \"rf\",\n",
    "             \"feature_fraction\": 0.9, \n",
    "             \"bagging_freq\": 1,\n",
    "             \"bagging_fraction\": 0.9 ,\n",
    "             \"bagging_seed\": 11,\n",
    "             \"metric\": 'binary_logloss',\n",
    "             \"lambda_l1\": 0.1,\n",
    "             \"verbosity\": -1,\n",
    "             \"random_state\": 831}\n",
    "save_list(param_set,file_name = 'kernel_param_logloss')"
   ]
  },
  {
   "cell_type": "code",
   "execution_count": 4,
   "metadata": {},
   "outputs": [],
   "source": [
    "param_set = {'objective' : 'binary',\n",
    "             'metric' : 'auc'}\n",
    "save_list(param_set,file_name = 'kernel_param_auc')"
   ]
  },
  {
   "cell_type": "markdown",
   "metadata": {},
   "source": [
    "## Xgboost"
   ]
  },
  {
   "cell_type": "code",
   "execution_count": 4,
   "metadata": {},
   "outputs": [],
   "source": [
    "# parameters (kernel)\n",
    "param_set = {'eta': 0.005, \n",
    "             'max_depth': 10, \n",
    "             'subsample': 0.8, \n",
    "             'colsample_bytree': 0.8, \n",
    "             'objective': 'reg:linear', \n",
    "             'eval_metric': 'rmse', \n",
    "             'silent': True}\n",
    "save_list(param_set,file_name = 'kernel_param_xgb')"
   ]
  },
  {
   "cell_type": "code",
   "execution_count": null,
   "metadata": {},
   "outputs": [],
   "source": []
  }
 ],
 "metadata": {
  "kernelspec": {
   "display_name": "py37",
   "language": "python",
   "name": "py37"
  },
  "language_info": {
   "codemirror_mode": {
    "name": "ipython",
    "version": 3
   },
   "file_extension": ".py",
   "mimetype": "text/x-python",
   "name": "python",
   "nbconvert_exporter": "python",
   "pygments_lexer": "ipython3",
   "version": "3.7.1"
  },
  "toc": {
   "base_numbering": 1,
   "nav_menu": {},
   "number_sections": true,
   "sideBar": true,
   "skip_h1_title": false,
   "title_cell": "Table of Contents",
   "title_sidebar": "Contents",
   "toc_cell": false,
   "toc_position": {},
   "toc_section_display": true,
   "toc_window_display": false
  }
 },
 "nbformat": 4,
 "nbformat_minor": 2
}
