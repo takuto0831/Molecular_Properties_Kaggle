{
 "cells": [
  {
   "cell_type": "markdown",
   "metadata": {},
   "source": [
    "# Setting"
   ]
  },
  {
   "cell_type": "code",
   "execution_count": 5,
   "metadata": {},
   "outputs": [],
   "source": [
    "# home path\n",
    "import sys, os\n",
    "home_path = os.path.expanduser(\"~\") + '/Desktop/Molecular_kaggle'"
   ]
  },
  {
   "cell_type": "code",
   "execution_count": 11,
   "metadata": {
    "scrolled": true
   },
   "outputs": [],
   "source": [
    "import numpy as np\n",
    "import pandas as pd\n",
    "import pandas_profiling as pdp\n",
    "import scipy\n",
    "import glob\n",
    "from tabulate import tabulate\n",
    "from ggplot import *\n",
    "import warnings\n",
    "import collections\n",
    "from scipy.optimize import minimize\n",
    "from sympy import *\n",
    "import matplotlib.pyplot as plt\n",
    "import seaborn as sns; sns.set() #seabornライブラリを読み込み、スタイルをセットする\n",
    "from numpy import linalg as la"
   ]
  },
  {
   "cell_type": "markdown",
   "metadata": {},
   "source": [
    "# Read csv"
   ]
  },
  {
   "cell_type": "code",
   "execution_count": 7,
   "metadata": {},
   "outputs": [
    {
     "data": {
      "text/plain": [
       "['/Users/takuto/Desktop/Molecular_kaggle/input/raw/scalar_coupling_contributions.csv',\n",
       " '/Users/takuto/Desktop/Molecular_kaggle/input/raw/mulliken_charges.csv',\n",
       " '/Users/takuto/Desktop/Molecular_kaggle/input/raw/structures.csv',\n",
       " '/Users/takuto/Desktop/Molecular_kaggle/input/raw/test.csv',\n",
       " '/Users/takuto/Desktop/Molecular_kaggle/input/raw/train.csv',\n",
       " '/Users/takuto/Desktop/Molecular_kaggle/input/raw/magnetic_shielding_tensors.csv',\n",
       " '/Users/takuto/Desktop/Molecular_kaggle/input/raw/dipole_moments.csv',\n",
       " '/Users/takuto/Desktop/Molecular_kaggle/input/raw/sample_submission.csv',\n",
       " '/Users/takuto/Desktop/Molecular_kaggle/input/raw/potential_energy.csv']"
      ]
     },
     "execution_count": 7,
     "metadata": {},
     "output_type": "execute_result"
    }
   ],
   "source": [
    "files = glob.glob(home_path + '/input/raw/*.csv')\n",
    "files"
   ]
  },
  {
   "cell_type": "code",
   "execution_count": null,
   "metadata": {},
   "outputs": [],
   "source": [
    "# import data\n",
    "scalar_coupling = pd.read_csv(files[0])\n",
    "mulliken_charges = pd.read_csv(files[1])\n",
    "structures = pd.read_csv(files[2])\n",
    "test = pd.read_csv(files[3])\n",
    "train = pd.read_csv(files[4])\n",
    "magnetic_shielding = pd.read_csv(files[5])\n",
    "dipole_moments = pd.read_csv(files[6])\n",
    "potential_energy = pd.read_csv(files[8])"
   ]
  },
  {
   "cell_type": "markdown",
   "metadata": {},
   "source": [
    "# EDA\n",
    "\n",
    "- pandas-profiling を利用して,基礎集計を作成 "
   ]
  },
  {
   "cell_type": "code",
   "execution_count": null,
   "metadata": {},
   "outputs": [],
   "source": [
    "pdp.ProfileReport(train)"
   ]
  },
  {
   "cell_type": "code",
   "execution_count": null,
   "metadata": {},
   "outputs": [],
   "source": [
    "pdp.ProfileReport(test)"
   ]
  },
  {
   "cell_type": "code",
   "execution_count": null,
   "metadata": {},
   "outputs": [],
   "source": [
    "pdp.ProfileReport(scalar_coupling)"
   ]
  },
  {
   "cell_type": "code",
   "execution_count": null,
   "metadata": {},
   "outputs": [],
   "source": [
    "pdp.ProfileReport(mulliken_charges)"
   ]
  },
  {
   "cell_type": "code",
   "execution_count": null,
   "metadata": {},
   "outputs": [],
   "source": [
    "pdp.ProfileReport(structures)"
   ]
  },
  {
   "cell_type": "code",
   "execution_count": null,
   "metadata": {},
   "outputs": [],
   "source": [
    "pdp.ProfileReport(dipole_moments)"
   ]
  },
  {
   "cell_type": "code",
   "execution_count": null,
   "metadata": {},
   "outputs": [],
   "source": [
    "pdp.ProfileReport(potential_energy)"
   ]
  },
  {
   "cell_type": "code",
   "execution_count": null,
   "metadata": {},
   "outputs": [],
   "source": [
    "pdp.ProfileReport(magnetic_shielding)"
   ]
  },
  {
   "cell_type": "code",
   "execution_count": null,
   "metadata": {},
   "outputs": [],
   "source": []
  }
 ],
 "metadata": {
  "kernelspec": {
   "display_name": "py37",
   "language": "python",
   "name": "py37"
  },
  "language_info": {
   "codemirror_mode": {
    "name": "ipython",
    "version": 3
   },
   "file_extension": ".py",
   "mimetype": "text/x-python",
   "name": "python",
   "nbconvert_exporter": "python",
   "pygments_lexer": "ipython3",
   "version": "3.7.1"
  },
  "toc": {
   "base_numbering": 1,
   "nav_menu": {},
   "number_sections": true,
   "sideBar": true,
   "skip_h1_title": false,
   "title_cell": "Table of Contents",
   "title_sidebar": "Contents",
   "toc_cell": false,
   "toc_position": {},
   "toc_section_display": true,
   "toc_window_display": false
  }
 },
 "nbformat": 4,
 "nbformat_minor": 2
}
